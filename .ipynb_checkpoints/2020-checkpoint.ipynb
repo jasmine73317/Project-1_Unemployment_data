{
 "cells": [
  {
   "cell_type": "code",
   "execution_count": null,
   "metadata": {},
   "outputs": [],
   "source": [
    "# csv files are downloaded from Yahoo Finance\n",
    "\n",
    "file_path1 = \"Resources/2020_GSPC.csv\"\n",
    "file_path2 = \"Resources/2020_DJI.csv\"\n",
    "file_path3 = \"Resources/2020_IXIC.csv\"\n",
    "file_path4 = \"Resources/2020_RUT.csv\"\n",
    "\n",
    "SP500_df = pd.read_csv(file_path1)\n",
    "Dow_df = pd.read_csv(file_path2)\n",
    "NASDAQ_df = pd.read_csv(file_path3)\n",
    "Russell2000_df = pd.read_csv(file_path4)"
   ]
  },
  {
   "cell_type": "code",
   "execution_count": null,
   "metadata": {},
   "outputs": [],
   "source": [
    "# Reduce number of columns\n",
    "\n",
    "SP500_df = SP500_df[[\"Date\", \"Close\", \"Volume\"]]\n",
    "Dow_df = Dow_df[[\"Date\", \"Close\", \"Volume\"]]\n",
    "NASDAQ_df = NASDAQ_df[[\"Date\", \"Close\", \"Volume\"]]\n",
    "Russell2000_df = Russell2000_df[[\"Date\", \"Close\", \"Volume\"]]"
   ]
  },
  {
   "cell_type": "code",
   "execution_count": null,
   "metadata": {},
   "outputs": [],
   "source": [
    "# Merge stock data\n",
    "\n",
    "eco_ind_df = pd.merge(SP500_df, Dow_df, on=\"Date\", how=\"outer\", suffixes=[\"_SP500\", \"_Dow_Jones_Industrial_Average\"])\n",
    "eco_ind_2_df = pd.merge(NASDAQ_df, Russell2000_df, on=\"Date\", how=\"outer\", suffixes=[\"_NASDAQ\", \"_Russell2000\"])\n",
    "eco_ind_df = pd.merge(eco_ind_df, eco_ind_2_df, on=\"Date\", how=\"outer\")\n",
    "\n",
    "eco_ind_df"
   ]
  },
  {
   "cell_type": "code",
   "execution_count": null,
   "metadata": {},
   "outputs": [],
   "source": [
    "url = \"https://covidtracking.com/api/us/daily\"\n",
    "\n",
    "response = requests.get(url).json()\n",
    "\n",
    "# print(json.dumps(response, indent=True))"
   ]
  },
  {
   "cell_type": "code",
   "execution_count": null,
   "metadata": {},
   "outputs": [],
   "source": [
    "dates = []\n",
    "cum_positives = []\n",
    "cum_deaths = []\n",
    "inc_positives = []\n",
    "inc_deaths = []"
   ]
  },
  {
   "cell_type": "code",
   "execution_count": null,
   "metadata": {},
   "outputs": [],
   "source": [
    "for day in np.arange(len(response)):\n",
    "    dates.append(response[day][\"date\"])\n",
    "    cum_positives.append(response[day][\"positive\"])\n",
    "    cum_deaths.append(response[day][\"death\"])\n",
    "    inc_positives.append(response[day][\"positiveIncrease\"])\n",
    "    inc_deaths.append(response[day][\"deathIncrease\"])"
   ]
  },
  {
   "cell_type": "code",
   "execution_count": null,
   "metadata": {},
   "outputs": [],
   "source": [
    "sick_df = pd.DataFrame({\"Date\" : dates,\n",
    "                       \"Total Cases\" : cum_positives,\n",
    "                       \"Total Deaths\" : cum_deaths,\n",
    "                       \"Daily increase in Cases\" : inc_positives,\n",
    "                       \"Daily increase in Deaths\" : inc_deaths})\n",
    "\n",
    "sick_df.loc[len(inc_positives)-1, \"Daily increase in Deaths\"] = sick_df.loc[len(cum_positives)-1, \"Total Deaths\"]\n",
    "sick_df.loc[len(inc_deaths)-1, \"Daily increase in Cases\"] = sick_df.loc[len(cum_deaths)-1, \"Total Cases\"]\n",
    "\n",
    "sick_df[\"Date\"] = sick_df[\"Date\"].astype(str)"
   ]
  },
  {
   "cell_type": "code",
   "execution_count": null,
   "metadata": {},
   "outputs": [],
   "source": [
    "for x in np.arange(len(dates)):\n",
    "    sick_df.loc[x,\"Date\"] = f\"{sick_df.loc[x,'Date'][0:4]}-{sick_df.loc[x,'Date'][4:6]}-{sick_df.loc[x,'Date'][6:]}\"\n",
    "\n",
    "sick_df.sort_values(by=\"Date\", ascending=True, inplace=True)\n",
    "\n",
    "sick_df.reset_index(drop=True, inplace=True)"
   ]
  },
  {
   "cell_type": "code",
   "execution_count": null,
   "metadata": {},
   "outputs": [],
   "source": [
    "sick_df.to_csv(\"COVID_cases.csv\", index=False)\n",
    "sick_df"
   ]
  },
  {
   "cell_type": "code",
   "execution_count": null,
   "metadata": {},
   "outputs": [],
   "source": [
    "COVID_econ_df = pd.merge(sick_df, eco_ind_df, on=\"Date\", how=\"inner\")\n",
    "COVID_econ_df = COVID_econ_df.drop([\"Daily increase in Cases\", \"Daily increase in Deaths\"], axis=1)\n",
    "COVID_econ_df.to_csv(\"COVID_econ.csv\")\n",
    "COVID_econ_df"
   ]
  },
  {
   "cell_type": "code",
   "execution_count": null,
   "metadata": {},
   "outputs": [],
   "source": [
    "COVID_econ_df = pd.read_csv(\"COVID_econ.csv\")"
   ]
  },
  {
   "cell_type": "code",
   "execution_count": null,
   "metadata": {},
   "outputs": [],
   "source": [
    "indicators = [\"SP500\", \"Dow_Jones_Industrial_Average\", \"NASDAQ\", \"Russell2000\"]\n",
    "\n",
    "for indicator in indicators:\n",
    "    fig, (ax1, ax2, ax3) = plt.subplots(3, sharex=True)\n",
    "    fig.suptitle(f\"{indicator} Performance vs. COVID cases over time\")\n",
    "\n",
    "    ax1.plot(COVID_econ_df[\"Date\"], COVID_econ_df[\"Total Cases\"], color=\"blue\")\n",
    "    ax1.set_ylabel(\"cases\")\n",
    "\n",
    "    ax2.plot(COVID_econ_df[\"Date\"], COVID_econ_df[f\"Close_{indicator}\"], color=\"orange\")\n",
    "    ax2.set_ylabel(f\"Close price {indicator}\")\n",
    "\n",
    "    ax3.plot(COVID_econ_df[\"Date\"], COVID_econ_df[f\"Volume_{indicator}\"], color=\"red\")\n",
    "    ax3.set_ylabel(f\"Volume {indicator}\")\n",
    "\n",
    "    plt.xlim(min(COVID_econ_df[\"Date\"]), max(COVID_econ_df[\"Date\"]))\n",
    "    plt.xlabel(\"Date\")\n",
    "    plt.xticks(rotation=\"vertical\")\n",
    "    \n",
    "    correlation = sts.pearsonr(COVID_econ_df[\"Total Cases\"], COVID_econ_df[f\"Close_{indicator}\"])\n",
    "    correlation2 = sts.pearsonr(COVID_econ_df[\"Total Cases\"], COVID_econ_df[f\"Volume_{indicator}\"])\n",
    "    \n",
    "    print(f\"The correlation between cases and {indicator} closing price is {round(correlation[0],2)}\")\n",
    "    print(f\"The correlation between cases and {indicator} volume is {round(correlation2[0],2)}\")"
   ]
  },
  {
   "cell_type": "code",
   "execution_count": null,
   "metadata": {},
   "outputs": [],
   "source": [
    "indicators = [\"SP500\", \"Dow_Jones_Industrial_Average\", \"NASDAQ\", \"Russell2000\"]\n",
    "\n",
    "\n",
    "fig, (ax1, ax2, ax3) = plt.subplots(3, sharex=True, figsize=(8,5))\n",
    "fig.suptitle(f\"Economic Indicator Performance vs. COVID cases over time\")\n",
    "\n",
    "ax1.plot(COVID_econ_df[\"Date\"], COVID_econ_df[\"Total Cases\"], color=\"blue\")\n",
    "ax1.set_ylabel(\"cases\")\n",
    "\n",
    "for indicator in indicators:\n",
    "    ax2.plot(COVID_econ_df[\"Date\"], COVID_econ_df[f\"Close_{indicator}\"], label=f\"{indicator}\")\n",
    "    ax2.set_ylabel(\"Close price\")\n",
    "    ax2.legend(loc=\"upper left\", bbox_to_anchor=(0,2.225))\n",
    "\n",
    "    ax3.plot(COVID_econ_df[\"Date\"], COVID_econ_df[f\"Volume_{indicator}\"], label=f\"{indicator}\")\n",
    "    ax3.set_ylabel(\"Volume\")\n",
    "\n",
    "plt.xlim(min(COVID_econ_df[\"Date\"]), max(COVID_econ_df[\"Date\"]))\n",
    "plt.xlabel(\"Date\")\n",
    "plt.xticks(rotation=\"vertical\")"
   ]
  }
 ],
 "metadata": {
  "kernelspec": {
   "display_name": "Python 3",
   "language": "python",
   "name": "python3"
  },
  "language_info": {
   "codemirror_mode": {
    "name": "ipython",
    "version": 3
   },
   "file_extension": ".py",
   "mimetype": "text/x-python",
   "name": "python",
   "nbconvert_exporter": "python",
   "pygments_lexer": "ipython3",
   "version": "3.7.4"
  }
 },
 "nbformat": 4,
 "nbformat_minor": 2
}
