{
 "cells": [
  {
   "cell_type": "code",
   "execution_count": null,
   "metadata": {},
   "outputs": [],
   "source": [
    "import requests\n",
    "import json\n",
    "import pandas as pd\n",
    "import numpy as np\n",
    "import datetime\n",
    "import calendar\n",
    "from config import bls_api_key"
   ]
  },
  {
   "cell_type": "code",
   "execution_count": null,
   "metadata": {},
   "outputs": [],
   "source": [
    "start_year = \"2006\"\n",
    "end_year = \"2018\""
   ]
  },
  {
   "cell_type": "markdown",
   "metadata": {},
   "source": [
    "## Demographic BLS Data Pull"
   ]
  },
  {
   "cell_type": "code",
   "execution_count": null,
   "metadata": {},
   "outputs": [],
   "source": [
    "url = \"https://api.bls.gov/publicAPI/v2/timeseries/data/\"\n",
    "headers = {\"content-type\": \"application/json\"}\n",
    "\n",
    "target_series = [\"LNS14000000\", \"LNS14000001\", \"LNS14000002\", \"LNS14000003\", \"LNS14000004\", \"LNS14000005\",\n",
    "                 \"LNS14000006\", \"LNS14000007\", \"LNS14000008\", \"LNS14032183\", \"LNS14000009\", \"LNS14000012\",\n",
    "                 \"LNS14000013\", \"LNS14000014\", \"LNS14000015\", \"LNS14000016\", \"LNS14000017\", \"LNS14000018\",\n",
    "                 \"LNS14000019\", \"LNS14000020\", \"LNS14000021\", \"LNS14000022\", \"LNS14000023\", \"LNS14000036\",\n",
    "                 \"LNS14000037\", \"LNS14000038\", \"LNS14000089\", \"LNS14000164\", \"LNS14000327\", \"LNS14000091\",\n",
    "                 \"LNS14000173\", \"LNS14000334\", \"LNS14000093\", \"LNS14000182\", \"LNS14000341\", \"LNS14024230\",\n",
    "                 \"LNS14024231\", \"LNS14024232\", \"LNS14000048\", \"LNS14000049\", \"LNS14000050\", \"LNS14027659\",\n",
    "                 \"LNS14027660\", \"LNS14027689\", \"LNS14027662\", \"LNS14000024\", \"LNS14000025\", \"LNS14000026\",\n",
    "                 \"LNS14000027\", \"LNS14000028\"]\n",
    "\n",
    "\n",
    "parameters = json.dumps({\"seriesid\": target_series,\n",
    "             \"startyear\": start_year,\n",
    "             \"endyear\": end_year,\n",
    "             \"registrationkey\": bls_api_key})\n",
    "\n",
    "p = requests.post(url, data=parameters, headers=headers)\n",
    "\n",
    "json_data5 = json.loads(p.text)"
   ]
  },
  {
   "cell_type": "code",
   "execution_count": null,
   "metadata": {},
   "outputs": [],
   "source": [
    "url = \"https://api.bls.gov/publicAPI/v2/timeseries/data/\"\n",
    "headers = {\"content-type\": \"application/json\"}\n",
    "\n",
    "target_series = [\"LNS14000029\", \"LNS14000030\", \"LNS14000031\", \"LNS14000032\",\n",
    "                 \"LNS14000033\", \"LNS14000034\", \"LNS14000035\"]\n",
    "\n",
    "\n",
    "parameters = json.dumps({\"seriesid\": target_series,\n",
    "             \"startyear\": start_year,\n",
    "             \"endyear\": end_year,\n",
    "             \"registrationkey\": bls_api_key})\n",
    "\n",
    "p = requests.post(url, data=parameters, headers=headers)\n",
    "\n",
    "json_data6 = json.loads(p.text)"
   ]
  },
  {
   "cell_type": "code",
   "execution_count": null,
   "metadata": {},
   "outputs": [],
   "source": [
    "Year = []\n",
    "date = []\n",
    "\n",
    "for data_point in np.arange(len(json_data5[\"Results\"][\"series\"][0][\"data\"])):\n",
    "        Year.append(f\"{json_data5['Results']['series'][0]['data'][data_point]['year']}\")\n",
    "        date.append(f\"{json_data5['Results']['series'][0]['data'][data_point]['year']}-{json_data5['Results']['series'][0]['data'][data_point]['period'][1:]}\")"
   ]
  },
  {
   "cell_type": "code",
   "execution_count": null,
   "metadata": {},
   "outputs": [],
   "source": [
    "unemployment_df = pd.DataFrame({\"Date\": date, \"Year\": Year,\n",
    "                                \"LNS14000000\": \"\", \"LNS14000001\": \"\", \"LNS14000002\": \"\",\n",
    "                                \"LNS14000003\": \"\", \"LNS14000004\": \"\", \"LNS14000005\": \"\",\n",
    "                                \"LNS14000006\": \"\", \"LNS14000007\": \"\", \"LNS14000008\": \"\",\n",
    "                                \"LNS14032183\": \"\", \"LNS14000009\": \"\", \"LNS14000012\": \"\",\n",
    "                                \"LNS14000013\": \"\", \"LNS14000014\": \"\", \"LNS14000015\": \"\",\n",
    "                                \"LNS14000016\": \"\", \"LNS14000017\": \"\", \"LNS14000018\": \"\",\n",
    "                                \"LNS14000019\": \"\", \"LNS14000020\": \"\", \"LNS14000021\": \"\",\n",
    "                                \"LNS14000022\": \"\", \"LNS14000023\": \"\", \"LNS14000024\": \"\",\n",
    "                                \"LNS14000025\": \"\", \"LNS14000026\": \"\", \"LNS14000027\": \"\",\n",
    "                                \"LNS14000028\": \"\", \"LNS14000029\": \"\", \"LNS14000030\": \"\",\n",
    "                                \"LNS14000031\": \"\", \"LNS14000032\": \"\", \"LNS14000033\": \"\",\n",
    "                                \"LNS14000034\": \"\", \"LNS14000035\": \"\", \"LNS14000036\": \"\",\n",
    "                                \"LNS14000037\": \"\", \"LNS14000038\": \"\", \"LNS14000089\": \"\",\n",
    "                                \"LNS14000164\": \"\", \"LNS14000327\": \"\", \"LNS14000091\": \"\",\n",
    "                                \"LNS14000173\": \"\", \"LNS14000334\": \"\", \"LNS14000093\": \"\",\n",
    "                                \"LNS14000182\": \"\", \"LNS14000341\": \"\", \"LNS14024230\": \"\",\n",
    "                                \"LNS14024231\": \"\", \"LNS14024232\": \"\", \"LNS14000048\": \"\",\n",
    "                                \"LNS14000049\": \"\", \"LNS14000050\": \"\", \"LNS14027659\": \"\",\n",
    "                                \"LNS14027660\": \"\", \"LNS14027689\": \"\", \"LNS14027662\": \"\"})\n",
    "\n",
    "unemployment_df.head()"
   ]
  },
  {
   "cell_type": "code",
   "execution_count": null,
   "metadata": {},
   "outputs": [],
   "source": [
    "for series5 in np.arange(len(json_data5[\"Results\"][\"series\"])):\n",
    "    for data_point5 in np.arange(len(json_data5[\"Results\"][\"series\"][series5][\"data\"])):\n",
    "        unemployment_df.loc[data_point5, json_data5[\"Results\"][\"series\"][series5][\"seriesID\"]] = json_data5[\"Results\"][\"series\"][series5][\"data\"][data_point5][\"value\"]\n",
    "\n",
    "for series in np.arange(len(json_data6[\"Results\"][\"series\"])):\n",
    "    for data_point in np.arange(len(json_data6[\"Results\"][\"series\"][series][\"data\"])):\n",
    "        unemployment_df.loc[data_point, json_data6[\"Results\"][\"series\"][series][\"seriesID\"]] = json_data6[\"Results\"][\"series\"][series][\"data\"][data_point][\"value\"]"
   ]
  },
  {
   "cell_type": "code",
   "execution_count": null,
   "metadata": {},
   "outputs": [],
   "source": [
    "for column in unemployment_df.columns[3:]:\n",
    "    unemployment_df[f\"{column}\"] = unemployment_df[f\"{column}\"].astype(float)\n"
   ]
  },
  {
   "cell_type": "code",
   "execution_count": null,
   "metadata": {},
   "outputs": [],
   "source": [
    "unemployment_df = unemployment_df.rename(columns={\"LNS14000000\": \"Unemployment Rate, 16yo and over\",\n",
    "                                                  \"LNS14000001\": \"Unemployment Rate, Men, 16yo and over\",\n",
    "                                                  \"LNS14000002\": \"Unemployment Rate, Women, 16yo and over\",\n",
    "                                                  \"LNS14000003\": \"Unemployment Rate, White, 16yo and over\",\n",
    "                                                  \"LNS14000004\": \"Unemployment Rate, White, Men, 16yo and over\",\n",
    "                                                  \"LNS14000005\": \"Unemployment Rate, White, Women, 16yo and over\",\n",
    "                                                  \"LNS14000006\": \"Unemployment Rate, African American, 16yo and over\",\n",
    "                                                  \"LNS14000007\": \"Unemployment Rate, African American, Men, 16yo and over\",\n",
    "                                                  \"LNS14000008\": \"Unemployment Rate, African American, Women, 16yo and over\",\n",
    "                                                  \"LNS14032183\": \"Unemployment Rate, Asian, 16yo and over\",\n",
    "                                                  \"LNS14000009\": \"Unemployment Rate, Hispanic or Latino, 16yo and over\",\n",
    "                                                  \"LNS14000012\": \"Unemployment Rate, 16-19yo\",\n",
    "                                                  \"LNS14000013\": \"Unemployment Rate, Men, 16-19yo\",\n",
    "                                                  \"LNS14000014\": \"Unemployment Rate, Women, 16-19yo\",\n",
    "                                                  \"LNS14000015\": \"Unemployment Rate, White, 16-19yo\",\n",
    "                                                  \"LNS14000016\": \"Unemployment Rate, White, Men, 16-19yo\",\n",
    "                                                  \"LNS14000017\": \"Unemployment Rate, White, Women, 16-19yo\",\n",
    "                                                  \"LNS14000018\": \"Unemployment Rate, African American, 16-19yo\",\n",
    "                                                  \"LNS14000019\": \"Unemployment Rate, African American, Men, 16-19yo\",\n",
    "                                                  \"LNS14000020\": \"Unemployment Rate, African American, Women, 16-19yo\",\n",
    "                                                  \"LNS14000021\": \"Unemployment Rate, Hispanic or Latino, 16-19yo\",\n",
    "                                                  \"LNS14000022\": \"Unemployment Rate, Hispanic or Latino, Men, 16-19yo\",\n",
    "                                                  \"LNS14000023\": \"Unemployment Rate, Hispanic or Latino, Women, 16-19yo\",\n",
    "                                                  \"LNS14000024\": \"Unemployment Rate, 20yo and over\",\n",
    "                                                  \"LNS14000025\": \"Unemployment Rate, Men, 20yo and over\",\n",
    "                                                  \"LNS14000026\": \"Unemployment Rate, Women, 20yo and over\",\n",
    "                                                  \"LNS14000027\": \"Unemployment Rate, White, 20yo and over\",\n",
    "                                                  \"LNS14000028\": \"Unemployment Rate, White, Men, 20yo and over\",\n",
    "                                                  \"LNS14000029\": \"Unemployment Rate, White, Women, 20yo and over\",\n",
    "                                                  \"LNS14000030\": \"Unemployment Rate, African American, 20yo and over\",\n",
    "                                                  \"LNS14000031\": \"Unemployment Rate, African American, Men, 20yo and over\",\n",
    "                                                  \"LNS14000032\": \"Unemployment Rate, African American, Women, 20yo and over\",\n",
    "                                                  \"LNS14000033\": \"Unemployment Rate, Hispanic or Latino\",\n",
    "                                                  \"LNS14000034\": \"Unemployment Rate, Hispanic or Latino, Men, 20yo and over\",\n",
    "                                                  \"LNS14000035\": \"Unemployment Rate, Hispanic or Latino, Women, 20yo and over\",\n",
    "                                                  \"LNS14000036\": \"Unemployment Rate, 20-24yo\",\n",
    "                                                  \"LNS14000037\": \"Unemployment Rate, Men, 20-24yo\",\n",
    "                                                  \"LNS14000038\": \"Unemployment Rate, Women, 20-24yo\",\n",
    "                                                  \"LNS14000089\": \"Unemployment Rate, 25-34yo\",\n",
    "                                                  \"LNS14000164\": \"Unemployment Rate, Men, 25-34yo\",\n",
    "                                                  \"LNS14000327\": \"Unemployment Rate, Women, 25-34yo\",\n",
    "                                                  \"LNS14000091\": \"Unemployment Rate, 35-44yo\",\n",
    "                                                  \"LNS14000173\": \"Unemployment Rate, Men, 35-44yo\",\n",
    "                                                  \"LNS14000334\": \"Unemployment Rate, Women, 35-44yo\",\n",
    "                                                  \"LNS14000093\": \"Unemployment Rate, 45-54yo\",\n",
    "                                                  \"LNS14000182\": \"Unemployment Rate, Men, 45-54yo\",\n",
    "                                                  \"LNS14000341\": \"Unemployment Rate, Women, 45-54yo\",\n",
    "                                                  \"LNS14024230\": \"Unemployment Rate, 55yo and over\",\n",
    "                                                  \"LNS14024231\": \"Unemployment Rate, Men, 55yo and over\",\n",
    "                                                  \"LNS14024232\": \"Unemployment Rate, Women, 55yo and over\",\n",
    "                                                  \"LNS14000048\": \"Unemployment Rate, 25yo and over\",\n",
    "                                                  \"LNS14000049\": \"Unemployment Rate, Men, 25yo and over\",\n",
    "                                                  \"LNS14000050\": \"Unemployment Rate, Women, 25yo and over\",\n",
    "                                                  \"LNS14027659\": \"Unemployment Rate, Less than High School diploma, 25yo and over\",\n",
    "                                                  \"LNS14027660\": \"Unemployment Rate, High school-no college, 25yo and over\",\n",
    "                                                  \"LNS14027689\": \"Unemployment Rate, Some college, 25yo and over\",\n",
    "                                                  \"LNS14027662\": \"Unemployment Rate, Bachelor's degree or higher, 25yo and over\"})\n",
    "\n",
    "\n",
    "unemployment_df.sort_values(by=\"Date\", ascending=True, inplace=True)\n",
    "\n",
    "unemployment_df.reset_index(drop=True, inplace=True)\n",
    "\n",
    "unemployment_df.to_csv(\"unemployment_rate.csv\", index=False)"
   ]
  },
  {
   "cell_type": "code",
   "execution_count": null,
   "metadata": {},
   "outputs": [],
   "source": [
    "pull_education_df = unemployment_df\n",
    "len(pull_education_df)"
   ]
  },
  {
   "cell_type": "code",
   "execution_count": null,
   "metadata": {},
   "outputs": [],
   "source": [
    "educationyears = pull_education_df['Year'].unique()\n",
    "educationmonthnumber = [ ]\n",
    "\n",
    "for year in educationyears:\n",
    "    educationmonth = 13\n",
    "    while (educationmonth > 1): \n",
    "        educationmonth = educationmonth -1\n",
    "        educationmonthnumber.append(educationmonth)\n",
    "        if  educationmonth == 0:\n",
    "            break\n",
    "pull_education_df['Month #'] = educationmonthnumber"
   ]
  },
  {
   "cell_type": "code",
   "execution_count": null,
   "metadata": {
    "scrolled": true
   },
   "outputs": [],
   "source": [
    "education_df = pull_education_df[['Year', 'Month #', 'Unemployment Rate, Less than High School diploma, 25yo and over',\n",
    "                  'Unemployment Rate, High school-no college, 25yo and over', \n",
    "                  'Unemployment Rate, Some college, 25yo and over',\n",
    "                  \"Unemployment Rate, Bachelor's degree or higher, 25yo and over\"]]\n",
    "\n",
    "education_df = education_df.rename(columns={'Unemployment Rate, Less than High School diploma, 25yo and over': \"No High School Diploma\",\n",
    "                                           'Unemployment Rate, High school-no college, 25yo and over': 'High School Graduate',\n",
    "                                           'Unemployment Rate, Some college, 25yo and over': 'Some College',\n",
    "                                           \"Unemployment Rate, Bachelor's degree or higher, 25yo and over\": \"Bachelor's Degree or Higher\"})"
   ]
  },
  {
   "cell_type": "code",
   "execution_count": null,
   "metadata": {},
   "outputs": [],
   "source": [
    "educationdate = []\n",
    "\n",
    "for index, row in education_df.iterrows():\n",
    "    educationdatenumber = str(f\"{row['Year']}-{row['Month #']}\")\n",
    "    educationdate.append(educationdatenumber)\n",
    "\n",
    "education_df['Date'] = educationdate\n",
    "\n",
    "education_df = education_df[['Year', 'Month #', 'Date', 'No High School Diploma', 'High School Graduate',\n",
    "                            'Some College', \"Bachelor's Degree or Higher\"]]\n",
    "                     \n",
    "education_df = education_df.reindex(index=education_df.index[::-1])\n",
    "education_df.head()"
   ]
  },
  {
   "cell_type": "code",
   "execution_count": null,
   "metadata": {},
   "outputs": [],
   "source": [
    "#send data to plotting csv"
   ]
  },
  {
   "cell_type": "code",
   "execution_count": null,
   "metadata": {},
   "outputs": [],
   "source": []
  },
  {
   "cell_type": "code",
   "execution_count": null,
   "metadata": {},
   "outputs": [],
   "source": []
  },
  {
   "cell_type": "code",
   "execution_count": null,
   "metadata": {},
   "outputs": [],
   "source": []
  },
  {
   "cell_type": "markdown",
   "metadata": {},
   "source": [
    "## Statewide Unemployment "
   ]
  },
  {
   "cell_type": "code",
   "execution_count": null,
   "metadata": {},
   "outputs": [],
   "source": [
    "url = \"https://api.bls.gov/publicAPI/v2/timeseries/data/\"\n",
    "headers = {\"content-type\": \"application/json\"}\n",
    "\n",
    "target_series = [\"LASST010000000000003\", \"LASST020000000000003\", \"LASST040000000000003\", \"LASST050000000000003\",\n",
    "                 \"LASST060000000000003\", \"LASST080000000000003\", \"LASST090000000000003\", \"LASST100000000000003\",\n",
    "                 \"LASST110000000000003\", \"LASST120000000000003\", \"LASST130000000000003\", \"LASST150000000000003\",\n",
    "                 \"LASST160000000000003\", \"LASST170000000000003\", \"LASST180000000000003\", \"LASST190000000000003\",\n",
    "                 \"LASST200000000000003\", \"LASST210000000000003\", \"LASST220000000000003\", \"LASST230000000000003\",\n",
    "                 \"LASST240000000000003\", \"LASST250000000000003\", \"LASST260000000000003\", \"LASST270000000000003\",\n",
    "                 \"LASST280000000000003\", \"LASST290000000000003\", \"LASST300000000000003\", \"LASST310000000000003\",\n",
    "                 \"LASST320000000000003\", \"LASST330000000000003\", \"LASST340000000000003\", \"LASST350000000000003\",\n",
    "                 \"LASST360000000000003\", \"LASST370000000000003\", \"LASST380000000000003\", \"LASST390000000000003\",\n",
    "                 \"LASST400000000000003\", \"LASST410000000000003\", \"LASST420000000000003\", \"LASST720000000000003\",\n",
    "                 \"LASST440000000000003\", \"LASST450000000000003\", \"LASST460000000000003\", \"LASST470000000000003\",\n",
    "                 \"LASST480000000000003\", \"LASST490000000000003\", \"LASST500000000000003\", \"LASST510000000000003\",\n",
    "                 \"LASST530000000000003\", \"LASST540000000000003\"]\n",
    "\n",
    "\n",
    "\n",
    "\n",
    "parameters = json.dumps({\"seriesid\": target_series,\n",
    "             \"startyear\": start_year,\n",
    "             \"endyear\": end_year,\n",
    "             \"registrationkey\": bls_api_key})\n",
    "\n",
    "p = requests.post(url, data=parameters, headers=headers)\n",
    "\n",
    "json_data2 = json.loads(p.text)"
   ]
  },
  {
   "cell_type": "code",
   "execution_count": null,
   "metadata": {},
   "outputs": [],
   "source": [
    "url = \"https://api.bls.gov/publicAPI/v2/timeseries/data/\"\n",
    "headers = {\"content-type\": \"application/json\"}\n",
    "\n",
    "target_series = [\"LASST550000000000003\", \"LASST560000000000003\"]\n",
    "\n",
    "\n",
    "\n",
    "\n",
    "parameters = json.dumps({\"seriesid\": target_series,\n",
    "             \"startyear\": start_year,\n",
    "             \"endyear\": end_year,\n",
    "             \"registrationkey\": bls_api_key})\n",
    "\n",
    "p = requests.post(url, data=parameters, headers=headers)\n",
    "\n",
    "json_data3 = json.loads(p.text)"
   ]
  },
  {
   "cell_type": "code",
   "execution_count": null,
   "metadata": {},
   "outputs": [],
   "source": [
    "Year = []\n",
    "date = []\n",
    "\n",
    "for data_point in np.arange(len(json_data2[\"Results\"][\"series\"][0][\"data\"])):\n",
    "        Year.append(f\"{json_data2['Results']['series'][0]['data'][data_point]['year']}\")\n",
    "        date.append(f\"{json_data2['Results']['series'][0]['data'][data_point]['year']}-{json_data2['Results']['series'][0]['data'][data_point]['period'][1:]}\")"
   ]
  },
  {
   "cell_type": "code",
   "execution_count": null,
   "metadata": {},
   "outputs": [],
   "source": [
    "state_unemployment_df = pd.DataFrame({\"Date\": date, \"Year\": Year,\n",
    "                                \"LASST010000000000003\": \"\", \"LASST020000000000003\": \"\", \"LASST040000000000003\": \"\",\n",
    "                                \"LASST050000000000003\": \"\", \"LASST060000000000003\": \"\", \"LASST080000000000003\": \"\",\n",
    "                                \"LASST090000000000003\": \"\", \"LASST100000000000003\": \"\", \"LASST110000000000003\": \"\",\n",
    "                                \"LASST120000000000003\": \"\", \"LASST130000000000003\": \"\", \"LASST150000000000003\": \"\",\n",
    "                                \"LASST160000000000003\": \"\", \"LASST170000000000003\": \"\", \"LASST180000000000003\": \"\",\n",
    "                                \"LASST190000000000003\": \"\", \"LASST200000000000003\": \"\", \"LASST210000000000003\": \"\",\n",
    "                                \"LASST220000000000003\": \"\", \"LASST230000000000003\": \"\", \"LASST240000000000003\": \"\",\n",
    "                                \"LASST250000000000003\": \"\", \"LASST260000000000003\": \"\", \"LASST270000000000003\": \"\",\n",
    "                                \"LASST280000000000003\": \"\", \"LASST290000000000003\": \"\", \"LASST300000000000003\": \"\",\n",
    "                                \"LASST310000000000003\": \"\", \"LASST320000000000003\": \"\", \"LASST330000000000003\": \"\",\n",
    "                                \"LASST340000000000003\": \"\", \"LASST350000000000003\": \"\", \"LASST360000000000003\": \"\",\n",
    "                                \"LASST370000000000003\": \"\", \"LASST380000000000003\": \"\", \"LASST390000000000003\": \"\",\n",
    "                                \"LASST400000000000003\": \"\", \"LASST410000000000003\": \"\", \"LASST420000000000003\": \"\",\n",
    "                                \"LASST720000000000003\": \"\", \"LASST440000000000003\": \"\", \"LASST450000000000003\": \"\",\n",
    "                                \"LASST460000000000003\": \"\", \"LASST470000000000003\": \"\", \"LASST480000000000003\": \"\",\n",
    "                                \"LASST490000000000003\": \"\", \"LASST500000000000003\": \"\", \"LASST510000000000003\": \"\",\n",
    "                                \"LASST530000000000003\": \"\", \"LASST540000000000003\": \"\", \"LASST550000000000003\": \"\",\n",
    "                                \"LASST560000000000003\": \"\"})"
   ]
  },
  {
   "cell_type": "code",
   "execution_count": null,
   "metadata": {},
   "outputs": [],
   "source": [
    "for series2 in np.arange(len(json_data2[\"Results\"][\"series\"])):\n",
    "    for data_point2 in np.arange(len(json_data2[\"Results\"][\"series\"][series2][\"data\"])):\n",
    "        state_unemployment_df.loc[data_point2, json_data2[\"Results\"][\"series\"][series2][\"seriesID\"]] = json_data2[\"Results\"][\"series\"][series2][\"data\"][data_point2][\"value\"]\n",
    "\n",
    "for series3 in np.arange(len(json_data3[\"Results\"][\"series\"])):\n",
    "    for data_point3 in np.arange(len(json_data3[\"Results\"][\"series\"][series3][\"data\"])):\n",
    "        state_unemployment_df.loc[data_point3, json_data3[\"Results\"][\"series\"][series3][\"seriesID\"]] = json_data3[\"Results\"][\"series\"][series3][\"data\"][data_point3][\"value\"]"
   ]
  },
  {
   "cell_type": "code",
   "execution_count": null,
   "metadata": {},
   "outputs": [],
   "source": [
    "for column in state_unemployment_df.columns[3:]:\n",
    "    state_unemployment_df[f\"{column}\"] = state_unemployment_df[f\"{column}\"].astype(float)\n",
    "\n",
    "state_unemployment_df.rename(columns={\"LASST010000000000003\" : \"Alabama\", \"LASST020000000000003\" : \"Alaska\",\n",
    "                                      \"LASST040000000000003\" : \"Arizona\", \"LASST050000000000003\" : \"Arkansas\",\n",
    "                                      \"LASST060000000000003\" : \"California\", \"LASST080000000000003\" : \"Colorado\",\n",
    "                                      \"LASST090000000000003\" : \"Connecticut\", \"LASST100000000000003\" : \"Delaware\",\n",
    "                                      \"LASST110000000000003\" : \"District Of Columbia\", \"LASST120000000000003\" : \"Florida\",\n",
    "                                      \"LASST130000000000003\" : \"Georgia\", \"LASST150000000000003\" : \"Hawaii\",\n",
    "                                      \"LASST160000000000003\" : \"Idaho\", \"LASST170000000000003\" : \"Illinois\",\n",
    "                                      \"LASST180000000000003\" : \"Indiana\", \"LASST190000000000003\" : \"Iowa\",\n",
    "                                      \"LASST200000000000003\" : \"Kansas\", \"LASST210000000000003\" : \"Kentucky\",\n",
    "                                      \"LASST220000000000003\" : \"Louisiana\", \"LASST230000000000003\" : \"Maine\",\n",
    "                                      \"LASST240000000000003\" : \"Maryland\", \"LASST250000000000003\" : \"Massachusetts\",\n",
    "                                      \"LASST260000000000003\" : \"Michigan\", \"LASST270000000000003\" : \"Minnesota\",\n",
    "                                      \"LASST280000000000003\" : \"Mississippi\", \"LASST290000000000003\" : \"Missouri\",\n",
    "                                      \"LASST300000000000003\" : \"Montana\", \"LASST310000000000003\" : \"Nebraska\",\n",
    "                                      \"LASST320000000000003\" : \"Nevada\", \"LASST330000000000003\" : \"New Hampshire\",\n",
    "                                      \"LASST340000000000003\" : \"New Jersey\", \"LASST350000000000003\" : \"New Mexico\",\n",
    "                                      \"LASST360000000000003\" : \"New York\", \"LASST370000000000003\" : \"North Carolina\",\n",
    "                                      \"LASST380000000000003\" : \"North Dakota\", \"LASST390000000000003\" : \"Ohio\",\n",
    "                                      \"LASST400000000000003\" : \"Oklahoma\", \"LASST410000000000003\" : \"Oregon\",\n",
    "                                      \"LASST420000000000003\" : \"Pennsylvania\", \"LASST720000000000003\" : \"Puerto Rico\",\n",
    "                                      \"LASST440000000000003\" : \"Rhode Island\", \"LASST450000000000003\" : \"South Carolina\",\n",
    "                                      \"LASST460000000000003\" : \"South Dakota\", \"LASST470000000000003\" : \"Tennessee\",\n",
    "                                      \"LASST480000000000003\" : \"Texas\", \"LASST490000000000003\" : \"Utah\",\n",
    "                                      \"LASST500000000000003\" : \"Vermont\", \"LASST510000000000003\" : \"Virginia\",\n",
    "                                      \"LASST530000000000003\" : \"Washington\", \"LASST540000000000003\" : \"West Virginia\",\n",
    "                                      \"LASST550000000000003\" : \"Wisconsin\", \"LASST560000000000003\" : \"Wyoming\"},\n",
    "                             inplace=True)\n",
    "\n",
    "state_unemployment_df.sort_values(by=\"Date\", ascending=True, inplace=True)\n",
    "\n",
    "state_unemployment_df.reset_index(drop=True, inplace=True)\n",
    "\n",
    "state_unemployment_df.to_csv(\"state_unemployment_monthly.csv\", index=False)"
   ]
  },
  {
   "cell_type": "code",
   "execution_count": null,
   "metadata": {},
   "outputs": [],
   "source": [
    "state_unemployment_y_df = state_unemployment_df.drop([\"Date\"], axis=1)\n",
    "\n",
    "\n",
    "state_unemployment_y_df = state_unemployment_y_df.groupby(\"Year\").mean()\n",
    "\n",
    "\n",
    "state_unemployment_y_df = state_unemployment_y_df.transpose()\n",
    "\n",
    "\n",
    "states_df = pd.read_csv(\"Resources/states.tsv\", delimiter=\"\\t\")\n",
    "\n",
    "\n",
    "state_unemployment_y_df = state_unemployment_y_df.rename_axis(\"name\")\n",
    "state_unemployment_y_df = pd.merge(state_unemployment_y_df, states_df, on=\"name\", how=\"inner\")\n",
    "\n",
    "\n",
    "state_unemployment_y_df = state_unemployment_y_df.drop([\"state\"], axis=1)\n",
    "\n",
    "state_unemployment_y_df.to_csv(\"state_unempoyment_yearly.csv\", index=False)"
   ]
  },
  {
   "cell_type": "markdown",
   "metadata": {},
   "source": [
    "## Unemployment Level BLS Pull"
   ]
  },
  {
   "cell_type": "code",
   "execution_count": null,
   "metadata": {},
   "outputs": [],
   "source": [
    "url = \"https://api.bls.gov/publicAPI/v2/timeseries/data/\"\n",
    "headers = {\"content-type\": \"application/json\"}\n",
    "\n",
    "target_series = [\"LNS13000000\", \"LNS13023621\", \"LNS13023653\", \"LNS13025699\", \"LNS13023705\", \"LNS13023557\", \"LNS13023569\"]\n",
    "\n",
    "\n",
    "\n",
    "\n",
    "parameters = json.dumps({\"seriesid\": target_series,\n",
    "             \"startyear\": start_year,\n",
    "             \"endyear\": end_year,\n",
    "             \"registrationkey\": bls_api_key})\n",
    "\n",
    "p = requests.post(url, data=parameters, headers=headers)\n",
    "\n",
    "json_data4 = json.loads(p.text)"
   ]
  },
  {
   "cell_type": "code",
   "execution_count": null,
   "metadata": {},
   "outputs": [],
   "source": [
    "Year = []\n",
    "date = []\n",
    "\n",
    "for data_point in np.arange(len(json_data4[\"Results\"][\"series\"][0][\"data\"])):\n",
    "        Year.append(f\"{json_data4['Results']['series'][0]['data'][data_point]['year']}\")\n",
    "        date.append(f\"{json_data4['Results']['series'][0]['data'][data_point]['year']}-{json_data4['Results']['series'][0]['data'][data_point]['period'][1:]}\")"
   ]
  },
  {
   "cell_type": "code",
   "execution_count": null,
   "metadata": {},
   "outputs": [],
   "source": [
    "layoffs_df = pd.DataFrame({\"Date\": date,\n",
    "                           \"Year\": Year,\n",
    "                           \"LNS13000000\": \"\",\n",
    "                           \"LNS13023621\": \"\",\n",
    "                           \"LNS13023653\": \"\",\n",
    "                           \"LNS13025699\": \"\",\n",
    "                           \"LNS13023705\": \"\",\n",
    "                           \"LNS13023557\": \"\",\n",
    "                           \"LNS13023569\": \"\"})"
   ]
  },
  {
   "cell_type": "code",
   "execution_count": null,
   "metadata": {},
   "outputs": [],
   "source": [
    "for series4 in np.arange(len(json_data4[\"Results\"][\"series\"])):\n",
    "    for data_point4 in np.arange(len(json_data4[\"Results\"][\"series\"][series4][\"data\"])):\n",
    "        layoffs_df.loc[data_point4, json_data4[\"Results\"][\"series\"][series4][\"seriesID\"]] = json_data4[\"Results\"][\"series\"][series4][\"data\"][data_point4][\"value\"]\n"
   ]
  },
  {
   "cell_type": "code",
   "execution_count": null,
   "metadata": {},
   "outputs": [],
   "source": [
    "for column in layoffs_df.columns[3:]:\n",
    "    layoffs_df[f\"{column}\"] = layoffs_df[f\"{column}\"].astype(float)\n",
    "\n",
    "layoffs_df.rename(columns={\"LNS13000000\": \"Unemployment level, 16yo and over, thousands\",\n",
    "                           \"LNS13023621\": \"Job losers, 16yo and over, thousands\",\n",
    "                           \"LNS13023653\": \"Job losers on layoff, 16yo and over, thousands\",\n",
    "                           \"LNS13025699\": \"Job losers not on layoff, 16yo and over, thousands\",\n",
    "                           \"LNS13023705\": \"Job leavers (quit), 16yo and over, thousands\",\n",
    "                           \"LNS13023557\": \"Reentrants to labor force, 16yo and over, thousands\",\n",
    "                           \"LNS13023569\": \"New entrants to labor force, 16yo and over, thousands\"},\n",
    "                 inplace=True)\n",
    "\n",
    "layoffs_df.sort_values(by=\"Date\", ascending=True, inplace=True)\n",
    "\n",
    "layoffs_df.reset_index(drop=True, inplace=True)\n",
    "\n",
    "layoffs_df.to_csv(\"Unemployment_Levels.csv\", index=False)"
   ]
  },
  {
   "cell_type": "code",
   "execution_count": null,
   "metadata": {},
   "outputs": [],
   "source": [
    "pulled_layoffs_data = layoffs_df"
   ]
  },
  {
   "cell_type": "code",
   "execution_count": null,
   "metadata": {},
   "outputs": [],
   "source": [
    "layoffrecessionyears = pulled_layoffs_data['Year'].unique()\n",
    "layoffmonthnumber = [ ]\n",
    "\n",
    "for year in layoffrecessionyears:\n",
    "    layoffmonth = 13\n",
    "    while (layoffmonth > 1): \n",
    "        layoffmonth = layoffmonth -1\n",
    "        layoffmonthnumber.append(layoffmonth)\n",
    "        if  layoffmonth == 0:\n",
    "            break\n",
    "pulled_layoffs_data['Month #'] = layoffmonthnumber"
   ]
  },
  {
   "cell_type": "code",
   "execution_count": null,
   "metadata": {},
   "outputs": [],
   "source": [
    "layoffdates = []\n",
    "\n",
    "for index, row in pulled_layoffs_data.iterrows():\n",
    "    layoffdatenumber = str(f\"{row['Year']}-{row['Month #']}\")\n",
    "    layoffdates.append(layoffdatenumber)\n",
    "\n",
    "pulled_layoffs_data['Date'] = layoffdates"
   ]
  },
  {
   "cell_type": "code",
   "execution_count": null,
   "metadata": {},
   "outputs": [],
   "source": [
    "pulled_layoffs_data = pulled_layoffs_data.rename(columns={'Unemployment level, 16yo and over, thousands': 'Overall Unemployment',\n",
    "                                     'Job losers, 16yo and over, thousands': 'Loss of Job Total', 'Job losers on layoff, 16yo and over, thousands': 'Loss of Job: On Layoff',\n",
    "                                     'Job losers not on layoff, 16yo and over, thousands': 'Loss of Job: Not on Layoff', \"Job leavers (quit), 16yo and over, thousands\": \"Number of Persons Quitting\",\n",
    "                                     'Reentrants to labor force, 16yo and over, thousands': 'Reentrants to Labor Force', 'New entrants to labor force, 16yo and over, thousands': 'New Entrants to Labor Force'})"
   ]
  },
  {
   "cell_type": "code",
   "execution_count": null,
   "metadata": {},
   "outputs": [],
   "source": [
    "pulled_layoffs_data = pulled_layoffs_data[['Year', 'Month #', 'Date', 'Overall Unemployment', 'Loss of Job Total', 'Loss of Job: On Layoff', 'Loss of Job: Not on Layoff', \n",
    "                      'Number of Persons Quitting', 'Reentrants to Labor Force', 'New Entrants to Labor Force']]\n",
    "pulled_layoffs_data['Year'] = pulled_layoffs_data['Year'].astype(int)\n",
    "recession_layoffs = pulled_layoffs_data[pulled_layoffs_data['Year']<=2011]"
   ]
  },
  {
   "cell_type": "code",
   "execution_count": null,
   "metadata": {},
   "outputs": [],
   "source": [
    "# save recession_layoffs for plotting"
   ]
  },
  {
   "cell_type": "code",
   "execution_count": null,
   "metadata": {},
   "outputs": [],
   "source": []
  },
  {
   "cell_type": "code",
   "execution_count": null,
   "metadata": {},
   "outputs": [],
   "source": []
  },
  {
   "cell_type": "code",
   "execution_count": null,
   "metadata": {},
   "outputs": [],
   "source": []
  },
  {
   "cell_type": "code",
   "execution_count": null,
   "metadata": {},
   "outputs": [],
   "source": [
    "newworkforce = pulled_layoffs_data[['Year', 'Month #', 'Date', 'Overall Unemployment', 'Reentrants to Labor Force', 'New Entrants to Labor Force']]\n",
    "newworkforce = newworkforce.reindex(index=newworkforce.index[::-1])\n",
    "\n",
    "newworkforce = newworkforce.reset_index()\n",
    "del newworkforce['index']\n",
    "newworkforce['Overall Unemployment'] = newworkforce['Overall Unemployment'].astype(float)"
   ]
  },
  {
   "cell_type": "code",
   "execution_count": null,
   "metadata": {},
   "outputs": [],
   "source": [
    "changewf_df_data = newworkforce[['Overall Unemployment', 'Reentrants to Labor Force', 'New Entrants to Labor Force']]\n",
    "changewf_df_date = newworkforce['Date']\n",
    "changewf_norm = (changewf_df_data - changewf_df_data.mean()) / (changewf_df_data.max() - changewf_df_data.min())\n",
    "changewf_norm['Date'] = changewf_df_date\n",
    "changewf_norm = changewf_norm[['Date', 'Overall Unemployment', 'Reentrants to Labor Force', 'New Entrants to Labor Force']]"
   ]
  },
  {
   "cell_type": "code",
   "execution_count": null,
   "metadata": {},
   "outputs": [],
   "source": [
    "# save changewf_norm for plotting"
   ]
  },
  {
   "cell_type": "code",
   "execution_count": null,
   "metadata": {},
   "outputs": [],
   "source": [
    "# Pull gender, race, educational attainment, and age data from Bureau of Labor Statistics\n",
    "\n",
    "url = \"https://api.bls.gov/publicAPI/v2/timeseries/data/\"\n",
    "headers = {\"content-type\": \"application/json\"}\n",
    "\n",
    "target_series = [\"LNS14000000\", \n",
    "                 \"LNS14000001\", \n",
    "                 \"LNS14000002\", \n",
    "                 \"LNS14000003\", \n",
    "                 \"LNS14000006\", \n",
    "                 \"LNS14032183\", \n",
    "                 \"LNS14000009\",\n",
    "                 \"LNS14027659\", \n",
    "                 \"LNS14027660\", \n",
    "                 \"LNS14027689\",\n",
    "                 \"LNS14027662\", \n",
    "                 \"LNS14024887\",\n",
    "                 \"LNS14000089\", \n",
    "                 \"LNS14000091\",\n",
    "                 \"LNS14000093\",\n",
    "                 \"LNS14024230\",\n",
    "                ]\n",
    "\n",
    "#start_year = \"2008\"\n",
    "#end_year = \"2018\"\n",
    "\n",
    "parameters = json.dumps({\"seriesid\": target_series,\n",
    "             \"startyear\": start_year,\n",
    "             \"endyear\": end_year,\n",
    "             \"registrationkey\": bls_api_key})\n",
    "\n",
    "p = requests.post(url, data=parameters, headers=headers)\n",
    "\n",
    "json_data = json.loads(p.text)\n",
    "\n",
    "json_data"
   ]
  },
  {
   "cell_type": "code",
   "execution_count": null,
   "metadata": {},
   "outputs": [],
   "source": [
    "#fill fit year and month into columns\n",
    "years = []\n",
    "months = []\n",
    "periods = []\n",
    "\n",
    "for data_point in np.arange(len(json_data[\"Results\"][\"series\"][0][\"data\"])):\n",
    "        years.append(json_data[\"Results\"][\"series\"][0][\"data\"][data_point][\"year\"])\n",
    "        periods.append(json_data[\"Results\"][\"series\"][0][\"data\"][data_point][\"period\"])\n",
    "        months.append(json_data[\"Results\"][\"series\"][0][\"data\"][data_point][\"periodName\"])"
   ]
  },
  {
   "cell_type": "code",
   "execution_count": null,
   "metadata": {},
   "outputs": [],
   "source": [
    "# Create DataFrame with place holders for unemployment categories\n",
    "\n",
    "layoffsInd_df = pd.DataFrame({\"Years\": years,\n",
    "                           \"Periods\": periods,\n",
    "                           \"Months\": months,\n",
    "                           \"LNS14000000\":\"\", \n",
    "                           \"LNS14000001\":\"\", \n",
    "                           \"LNS14000002\":\"\", \n",
    "                           \"LNS14000003\":\"\", \n",
    "                           \"LNS14000006\":\"\", \n",
    "                           \"LNS14032183\":\"\", \n",
    "                           \"LNS14000009\":\"\",\n",
    "                           \"LNS14027659\":\"\", \n",
    "                           \"LNS14027660\":\"\", \n",
    "                           \"LNS14027689\":\"\",\n",
    "                           \"LNS14027662\":\"\", \n",
    "                           \"LNS14024887\":\"\",\n",
    "                           \"LNS14000089\":\"\", \n",
    "                           \"LNS14000091\":\"\",\n",
    "                           \"LNS14000093\":\"\",\n",
    "                           \"LNS14024230\":\"\"\n",
    "                          })\n",
    "layoffsInd_df.set_index([\"Years\", \"Periods\",\"Months\",\"LNS14000000\",\"LNS14000001\",\"LNS14000002\",\"LNS14000003\",\"LNS14000006\",\n",
    "                       \"LNS14032183\",\"LNS14000009\",\"LNS14027659\",\"LNS14027660\",\"LNS14027689\",\"LNS14027662\",\"LNS14024887\",\n",
    "                       \"LNS14000089\",\"LNS14000091\",\"LNS14000093\",\"LNS14024230\"])\n"
   ]
  },
  {
   "cell_type": "code",
   "execution_count": null,
   "metadata": {},
   "outputs": [],
   "source": [
    "# Fills in values\n",
    "\n",
    "for series in np.arange(len(json_data[\"Results\"][\"series\"])):\n",
    "    for data_point in np.arange(len(json_data[\"Results\"][\"series\"][series][\"data\"])):\n",
    "        layoffsInd_df.loc[data_point, json_data[\"Results\"][\"series\"][series][\"seriesID\"]] =\\\n",
    "        json_data[\"Results\"][\"series\"][series][\"data\"][data_point][\"value\"]\n",
    "   \n",
    "      \n",
    "#layoffs_df.head()"
   ]
  },
  {
   "cell_type": "code",
   "execution_count": null,
   "metadata": {},
   "outputs": [],
   "source": [
    "# Rename column labels\n",
    "\n",
    "layoffsInd_df.rename(columns={\n",
    "                           \"LNS14000000\": \"Unemployment Rate for 16yo and over\",\n",
    "                           \"LNS14000001\": \"Unemployment Rate for Men 16yo and over\",\n",
    "                           \"LNS14000002\": \"Unemployment Rate for Women 16yo and over\",\n",
    "                           \"LNS14000003\": \"Unemployment Rate for White people 16yo and over\",\n",
    "                           \"LNS14000006\": \"Unemployment Rate for African Americans 16yo and over\",\n",
    "                           \"LNS14032183\": \"Unemployment Rate for Asian people 16yo and over\",\n",
    "                           \"LNS14000009\": \"Unemployment Rate for Hispanic people 16yo and over\",\n",
    "                           \"LNS14027659\": \"Unemployment Rate for 25yo and older with less than High School Diploma\",\n",
    "                           \"LNS14027660\": \"Unemployment Rate for 25yo and older with High School Degree\",\n",
    "                           \"LNS14027689\": \"Unemployment Rate for 25yo and older with some college\",\n",
    "                           \"LNS14027662\": \"Unemployment Rate for 25yo and older with Bachelor's degree or higher\",\n",
    "                           \"LNS14024887\": \"Unemployment Rate for 16-24yo\",\n",
    "                           \"LNS14000089\": \"Unemployment Rate for 25-34yo\",\n",
    "                           \"LNS14000091\": \"Unemployment Rate for 35-44yo\",\n",
    "                           \"LNS14000093\": \"Unemployment Rate for 45-54yo\",\n",
    "                            \"LNS14024230\": \"Unemployment Rate for 55yo and over\"\n",
    "                          },\n",
    "                      inplace=True)\n",
    "layoffsInd_df['Unemployment Rate for 16yo and over'] = pd.to_numeric(layoffsInd_df['Unemployment Rate for 16yo and over'])\n",
    "\n",
    "grouped_layoffs = layoffsInd_df.groupby('Years')['Unemployment Rate for 16yo and over'].mean()\n",
    "grouped_layoffs = grouped_layoffs.reset_index()\n",
    "#grouped_layoffs.head(13)\n"
   ]
  },
  {
   "cell_type": "code",
   "execution_count": null,
   "metadata": {},
   "outputs": [],
   "source": [
    "grouped_layoffs2 = layoffsInd_df.groupby(['Years','Periods','Months'])['Unemployment Rate for 16yo and over'].mean()\n",
    "grouped_layoffs2 = grouped_layoffs2.reset_index()\n",
    "#grouped_layoffs2.head(13)\n"
   ]
  },
  {
   "cell_type": "code",
   "execution_count": null,
   "metadata": {},
   "outputs": [],
   "source": [
    "# Output layoff File (CSV)\n",
    "output_layoffs_file = \"output_data/layoffs.csv\"\n",
    "\n",
    "#city data into a .csv.\n",
    "grouped_layoffs2.to_csv(output_layoffs_file,index=False)"
   ]
  },
  {
   "cell_type": "code",
   "execution_count": null,
   "metadata": {},
   "outputs": [],
   "source": [
    "#Industy Data Pull\n",
    "url = \"https://api.bls.gov/publicAPI/v2/timeseries/data/\"\n",
    "headers = {\"content-type\": \"application/json\"}\n",
    "\n",
    "target_series = [\"CES0000000001\",\n",
    "                 \"CES0500000001\", \n",
    "                 \"CES0600000001\", \n",
    "                 \"CES0700000001\", \n",
    "                 \"CES0800000001\", \n",
    "                 \"CES1000000001\", \n",
    "                 \"CES2000000001\", \n",
    "                 \"CES3000000001\", \n",
    "                 \"CES3100000001\", \n",
    "                 \"CES3200000001\", \n",
    "                 \"CES4000000001\", \n",
    "                 \"CES4142000001\", \n",
    "                 \"CES4200000001\", \n",
    "                 \"CES4300000001\", \n",
    "                 \"CES4422000001\", \n",
    "                 \"CES5000000001\", \n",
    "                 \"CES5500000001\", \n",
    "                 \"CES6000000001\", \n",
    "                 \"CES6500000001\", \n",
    "                 \"CES7000000001\", \n",
    "                 \"CES8000000001\", \n",
    "                 \"CES9000000001\"\n",
    "                ]\n",
    "#start_year = \"2008\"\n",
    "#end_year = \"2020\"\n",
    "\n",
    "parameters = json.dumps({\"seriesid\": target_series,\n",
    "             \"startyear\": start_year,\n",
    "             \"endyear\": end_year,\n",
    "             \"registrationkey\": bls_api_key})\n",
    "\n",
    "p = requests.post(url, data=parameters, headers=headers)\n",
    "\n",
    "json_data4 = json.loads(p.text)\n",
    "\n",
    "json_data4"
   ]
  },
  {
   "cell_type": "code",
   "execution_count": null,
   "metadata": {},
   "outputs": [],
   "source": [
    "years = []\n",
    "months = []\n",
    "periods = []\n",
    "\n",
    "for data_point in np.arange(len(json_data4[\"Results\"][\"series\"][0][\"data\"])):\n",
    "        years.append(json_data4[\"Results\"][\"series\"][0][\"data\"][data_point][\"year\"])\n",
    "        months.append(json_data4[\"Results\"][\"series\"][0][\"data\"][data_point][\"periodName\"])\n",
    "        periods.append(json_data4[\"Results\"][\"series\"][0][\"data\"][data_point][\"period\"])"
   ]
  },
  {
   "cell_type": "code",
   "execution_count": null,
   "metadata": {},
   "outputs": [],
   "source": [
    "# Create DataFrame with place holders for unemployment categories\n",
    "\n",
    "industry_df = pd.DataFrame({\"Years\": years,\n",
    "                            \"Periods\": periods,\n",
    "                           \"Months\": months,\n",
    "                           \"CES0000000001\":\"\", \n",
    "                           \"CES0500000001\":\"\",\n",
    "                           \"CES0600000001\":\"\", \n",
    "                           \"CES0700000001\":\"\",\n",
    "                           \"CES0800000001\":\"\", \n",
    "                           \"CES1000000001\":\"\",\n",
    "                           \"CES2000000001\":\"\",\n",
    "                           \"CES3000000001\":\"\", \n",
    "                           \"CES3100000001\":\"\",\n",
    "                           \"CES3200000001\":\"\",\n",
    "                           \"CES4000000001\":\"\", \n",
    "                           \"CES4142000001\":\"\",\n",
    "                           \"CES4200000001\":\"\",\n",
    "                           \"CES4300000001\":\"\", \n",
    "                           \"CES4422000001\":\"\",\n",
    "                           \"CES5000000001\":\"\",\n",
    "                           \"CES5500000001\":\"\", \n",
    "                           \"CES6000000001\":\"\",\n",
    "                           \"CES6500000001\":\"\",\n",
    "                           \"CES7000000001\":\"\", \n",
    "                           \"CES8000000001\":\"\",\n",
    "                           \"CES9000000001\":\"\"\n",
    "                          })\n",
    "industry_df.set_index([\"Years\", \"Periods\",\"Months\",\n",
    "                      \"CES0000000001\",\n",
    "                      \"CES0500000001\", \n",
    "                      \"CES0600000001\", \n",
    "                      \"CES0700000001\", \n",
    "                      \"CES0800000001\", \n",
    "                      \"CES1000000001\", \n",
    "                      \"CES2000000001\", \n",
    "                      \"CES3000000001\", \n",
    "                      \"CES3100000001\", \n",
    "                      \"CES3200000001\", \n",
    "                      \"CES4000000001\", \n",
    "                      \"CES4142000001\", \n",
    "                      \"CES4200000001\", \n",
    "                      \"CES4300000001\", \n",
    "                      \"CES4422000001\", \n",
    "                      \"CES5000000001\", \n",
    "                      \"CES5500000001\", \n",
    "                      \"CES6000000001\", \n",
    "                      \"CES6500000001\", \n",
    "                      \"CES7000000001\", \n",
    "                      \"CES8000000001\", \n",
    "                      \"CES9000000001\"\n",
    "                     ])\n",
    "#industry_df.head(12)"
   ]
  },
  {
   "cell_type": "code",
   "execution_count": null,
   "metadata": {},
   "outputs": [],
   "source": [
    "# Fills in values for Idustry data\n",
    "\n",
    "for series4 in np.arange(len(json_data4[\"Results\"][\"series\"])):\n",
    "    for data_point4 in np.arange(len(json_data4[\"Results\"][\"series\"][series4][\"data\"])):\n",
    "        industry_df.loc[data_point4, json_data4[\"Results\"][\"series\"][series4][\"seriesID\"]] =\\\n",
    "        json_data4[\"Results\"][\"series\"][series4][\"data\"][data_point4][\"value\"]\n",
    "        \n",
    "#industry_df.head(10) \n"
   ]
  },
  {
   "cell_type": "code",
   "execution_count": null,
   "metadata": {},
   "outputs": [],
   "source": [
    "# Rename columns to make more informative\n",
    "industry_df.rename(columns={\"CES0000000001\":\"Total Non-Farm\",\n",
    "                           \"CES0500000001\":\"Total Private\",\n",
    "                           \"CES0600000001\":\"Goods Production\", \n",
    "                           \"CES0700000001\":\"Service Production\",\n",
    "                           \"CES0800000001\":\"Private Service Production\", \n",
    "                           \"CES1000000001\":\"Mining and Lodging\",\n",
    "                           \"CES2000000001\":\"Construction\",\n",
    "                           \"CES3000000001\":\"Manufacturing\", \n",
    "                           \"CES3100000001\":\"Durable Goods\",\n",
    "                           \"CES3200000001\":\"NonDurable Good\",\n",
    "                           \"CES4000000001\":\"Trade, Transportation and Utilities\", \n",
    "                           \"CES4142000001\":\"WholeSale Trade\",\n",
    "                           \"CES4200000001\":\"Retail Trade\",\n",
    "                           \"CES4300000001\":\"Transportation and Warehousing\", \n",
    "                           \"CES4422000001\":\"Utilities\",\n",
    "                           \"CES5000000001\":\"Information\",\n",
    "                           \"CES5500000001\":\"Financial Activities\", \n",
    "                           \"CES6000000001\":\"Professional and Business Services\",\n",
    "                           \"CES6500000001\":\"Education and Health Services\",\n",
    "                           \"CES7000000001\":\"Leisure and Hospitality\", \n",
    "                           \"CES8000000001\":\"Other Services\",\n",
    "                           \"CES9000000001\":\"Government\"},\n",
    "                 inplace=True)\n",
    "\n",
    "industry_df['Total Non-Farm'] = pd.to_numeric(industry_df['Total Non-Farm'])\n",
    "industry_df['Total Private'] = pd.to_numeric(industry_df['Total Private'])\n",
    "industry_df['Goods Production'] = pd.to_numeric(industry_df['Goods Production'])\n",
    "industry_df['Service Production'] = pd.to_numeric(industry_df['Service Production'])\n",
    "industry_df['Private Service Production'] = pd.to_numeric(industry_df['Private Service Production'])\n",
    "industry_df['Mining and Lodging'] = pd.to_numeric(industry_df['Mining and Lodging'])\n",
    "industry_df['Construction'] = pd.to_numeric(industry_df['Construction'])\n",
    "industry_df['Manufacturing'] = pd.to_numeric(industry_df['Manufacturing'])\n",
    "industry_df['Durable Goods'] = pd.to_numeric(industry_df['Durable Goods'])\n",
    "industry_df['NonDurable Good'] = pd.to_numeric(industry_df['NonDurable Good'])\n",
    "industry_df['Trade, Transportation and Utilities'] = pd.to_numeric(industry_df['Trade, Transportation and Utilities'])\n",
    "industry_df['WholeSale Trade'] = pd.to_numeric(industry_df['WholeSale Trade'])\n",
    "industry_df['Retail Trade'] = pd.to_numeric(industry_df['Retail Trade'])\n",
    "industry_df['Transportation and Warehousing'] = pd.to_numeric(industry_df['Transportation and Warehousing'])\n",
    "industry_df['Utilities'] = pd.to_numeric(industry_df['Utilities'])\n",
    "industry_df['Information'] = pd.to_numeric(industry_df['Information'])\n",
    "industry_df['Financial Activities'] = pd.to_numeric(industry_df['Financial Activities'])\n",
    "industry_df['Professional and Business Services'] = pd.to_numeric(industry_df['Professional and Business Services'])\n",
    "industry_df['Education and Health Services'] = pd.to_numeric(industry_df['Education and Health Services'])\n",
    "industry_df['Leisure and Hospitality'] = pd.to_numeric(industry_df['Leisure and Hospitality'])\n",
    "industry_df['Other Services'] = pd.to_numeric(industry_df['Other Services'])\n",
    "industry_df['Government'] = pd.to_numeric(industry_df['Government'])\n",
    "industry_df['Unemployment Rate for 16yo and over'] = grouped_layoffs2['Unemployment Rate for 16yo and over']\n"
   ]
  },
  {
   "cell_type": "code",
   "execution_count": null,
   "metadata": {},
   "outputs": [],
   "source": [
    "grouped_industry = industry_df.groupby(['Years']).mean()\n",
    "grouped_industry = grouped_industry.reset_index()\n"
   ]
  },
  {
   "cell_type": "code",
   "execution_count": null,
   "metadata": {},
   "outputs": [],
   "source": [
    "# Output industry File (CSV)\n",
    "output_industry_file = \"output_data/industry.csv\"\n",
    "\n",
    "#city data into a .csv.\n",
    "grouped_industry.to_csv(output_industry_file,index=False)"
   ]
  },
  {
   "cell_type": "code",
   "execution_count": null,
   "metadata": {},
   "outputs": [],
   "source": []
  },
  {
   "cell_type": "code",
   "execution_count": null,
   "metadata": {},
   "outputs": [],
   "source": []
  },
  {
   "cell_type": "code",
   "execution_count": null,
   "metadata": {},
   "outputs": [],
   "source": []
  },
  {
   "cell_type": "code",
   "execution_count": null,
   "metadata": {},
   "outputs": [],
   "source": []
  },
  {
   "cell_type": "code",
   "execution_count": null,
   "metadata": {},
   "outputs": [],
   "source": []
  },
  {
   "cell_type": "code",
   "execution_count": null,
   "metadata": {},
   "outputs": [],
   "source": []
  }
 ],
 "metadata": {
  "kernelspec": {
   "display_name": "Python 3",
   "language": "python",
   "name": "python3"
  },
  "language_info": {
   "codemirror_mode": {
    "name": "ipython",
    "version": 3
   },
   "file_extension": ".py",
   "mimetype": "text/x-python",
   "name": "python",
   "nbconvert_exporter": "python",
   "pygments_lexer": "ipython3",
   "version": "3.7.4"
  }
 },
 "nbformat": 4,
 "nbformat_minor": 2
}
