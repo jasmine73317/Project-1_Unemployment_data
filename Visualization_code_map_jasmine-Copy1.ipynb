{
 "cells": [
  {
   "cell_type": "code",
   "execution_count": 1,
   "metadata": {},
   "outputs": [],
   "source": [
    "import requests\n",
    "import json\n",
    "import pandas as pd\n",
    "import numpy as np\n",
    "import datetime\n",
    "import calendar\n",
    "from config import bls_api_key\n",
    "import gmaps\n",
    "from test_key import g_key\n",
    "import os"
   ]
  },
  {
   "cell_type": "code",
   "execution_count": 2,
   "metadata": {},
   "outputs": [],
   "source": [
    "# Map for 2008-2011\n",
    "merge_df=pd.read_csv(\"state_merge_1.csv\")"
   ]
  },
  {
   "cell_type": "code",
   "execution_count": 3,
   "metadata": {},
   "outputs": [],
   "source": [
    "gmaps.configure(api_key=g_key)\n",
    "locations = merge_df[[\"latitude\",\"longitude\"]]\n",
    "unemploymentrate= merge_df[\" avg0811\"]\n",
    "max_unemployment=merge_df[\" avg0811\"].max()"
   ]
  },
  {
   "cell_type": "code",
   "execution_count": 4,
   "metadata": {},
   "outputs": [
    {
     "data": {
      "application/vnd.jupyter.widget-view+json": {
       "model_id": "941082fcdc014477805c8323568e5334",
       "version_major": 2,
       "version_minor": 0
      },
      "text/plain": [
       "Figure(layout=FigureLayout(height='420px'))"
      ]
     },
     "metadata": {},
     "output_type": "display_data"
    }
   ],
   "source": [
    "fig = gmaps.figure()\n",
    "heatmap = gmaps.heatmap_layer(locations, weights = unemploymentrate, max_intensity = max_unemployment)\n",
    "fig.add_layer(heatmap)\n",
    "\n",
    "fig"
   ]
  },
  {
   "cell_type": "code",
   "execution_count": 5,
   "metadata": {},
   "outputs": [
    {
     "data": {
      "application/vnd.jupyter.widget-view+json": {
       "model_id": "0a325661067a4223b34c5b3d367d16bd",
       "version_major": 2,
       "version_minor": 0
      },
      "text/plain": [
       "Figure(layout=FigureLayout(height='420px'))"
      ]
     },
     "metadata": {},
     "output_type": "display_data"
    }
   ],
   "source": [
    "fig2= gmaps.figure()\n",
    "heatmap = gmaps.heatmap_layer(locations, weights = unemploymentrate, max_intensity = max_unemployment, point_radius = 30)\n",
    "fig2.add_layer(heatmap)\n",
    "\n",
    "fig2"
   ]
  },
  {
   "cell_type": "code",
   "execution_count": 6,
   "metadata": {},
   "outputs": [
    {
     "data": {
      "text/html": [
       "<div>\n",
       "<style scoped>\n",
       "    .dataframe tbody tr th:only-of-type {\n",
       "        vertical-align: middle;\n",
       "    }\n",
       "\n",
       "    .dataframe tbody tr th {\n",
       "        vertical-align: top;\n",
       "    }\n",
       "\n",
       "    .dataframe thead th {\n",
       "        text-align: right;\n",
       "    }\n",
       "</style>\n",
       "<table border=\"1\" class=\"dataframe\">\n",
       "  <thead>\n",
       "    <tr style=\"text-align: right;\">\n",
       "      <th></th>\n",
       "      <th>Unnamed: 0</th>\n",
       "      <th>state</th>\n",
       "      <th>latitude</th>\n",
       "      <th>longitude</th>\n",
       "      <th>name</th>\n",
       "      <th>avg0811</th>\n",
       "    </tr>\n",
       "  </thead>\n",
       "  <tbody>\n",
       "    <tr>\n",
       "      <td>0</td>\n",
       "      <td>0</td>\n",
       "      <td>AK</td>\n",
       "      <td>63.588753</td>\n",
       "      <td>-154.493062</td>\n",
       "      <td>Alaska</td>\n",
       "      <td>7.470833</td>\n",
       "    </tr>\n",
       "    <tr>\n",
       "      <td>1</td>\n",
       "      <td>1</td>\n",
       "      <td>AL</td>\n",
       "      <td>32.318231</td>\n",
       "      <td>-86.902298</td>\n",
       "      <td>Alabama</td>\n",
       "      <td>9.216667</td>\n",
       "    </tr>\n",
       "    <tr>\n",
       "      <td>2</td>\n",
       "      <td>2</td>\n",
       "      <td>AR</td>\n",
       "      <td>35.201050</td>\n",
       "      <td>-91.831833</td>\n",
       "      <td>Arkansas</td>\n",
       "      <td>7.452083</td>\n",
       "    </tr>\n",
       "    <tr>\n",
       "      <td>3</td>\n",
       "      <td>3</td>\n",
       "      <td>AZ</td>\n",
       "      <td>34.048928</td>\n",
       "      <td>-111.093731</td>\n",
       "      <td>Arizona</td>\n",
       "      <td>8.979167</td>\n",
       "    </tr>\n",
       "    <tr>\n",
       "      <td>4</td>\n",
       "      <td>4</td>\n",
       "      <td>CA</td>\n",
       "      <td>36.778261</td>\n",
       "      <td>-119.417932</td>\n",
       "      <td>California</td>\n",
       "      <td>10.591667</td>\n",
       "    </tr>\n",
       "  </tbody>\n",
       "</table>\n",
       "</div>"
      ],
      "text/plain": [
       "   Unnamed: 0 state   latitude   longitude        name    avg0811\n",
       "0           0    AK  63.588753 -154.493062      Alaska   7.470833\n",
       "1           1    AL  32.318231  -86.902298     Alabama   9.216667\n",
       "2           2    AR  35.201050  -91.831833    Arkansas   7.452083\n",
       "3           3    AZ  34.048928 -111.093731     Arizona   8.979167\n",
       "4           4    CA  36.778261 -119.417932  California  10.591667"
      ]
     },
     "execution_count": 6,
     "metadata": {},
     "output_type": "execute_result"
    }
   ],
   "source": [
    "rate_df = pd.read_csv(\"state_merge_1.csv\")\n",
    "rate_df.head()"
   ]
  },
  {
   "cell_type": "code",
   "execution_count": 7,
   "metadata": {},
   "outputs": [
    {
     "data": {
      "text/plain": [
       "['Average Unmployment Rate Avg:7.470833333333335%',\n",
       " 'Average Unmployment Rate Avg:9.216666666666667%',\n",
       " 'Average Unmployment Rate Avg:7.4520833333333325%',\n",
       " 'Average Unmployment Rate Avg:8.979166666666666%',\n",
       " 'Average Unmployment Rate Avg:10.591666666666667%',\n",
       " 'Average Unmployment Rate Avg:7.308333333333333%',\n",
       " 'Average Unmployment Rate Avg:7.887499999999997%',\n",
       " 'Average Unmployment Rate Avg:7.285416666666664%',\n",
       " 'Average Unmployment Rate Avg:9.429166666666664%',\n",
       " 'Average Unmployment Rate Avg:9.23125%',\n",
       " 'Average Unmployment Rate Avg:6.299999999999998%',\n",
       " 'Average Unmployment Rate Avg:5.539583333333333%',\n",
       " 'Average Unmployment Rate Avg:7.789583333333333%',\n",
       " 'Average Unmployment Rate Avg:9.141666666666666%',\n",
       " 'Average Unmployment Rate Avg:8.914583333333333%',\n",
       " 'Average Unmployment Rate Avg:6.260416666666665%',\n",
       " 'Average Unmployment Rate Avg:9.085416666666664%',\n",
       " 'Average Unmployment Rate Avg:6.883333333333336%',\n",
       " 'Average Unmployment Rate Avg:7.295833333333332%',\n",
       " 'Average Unmployment Rate Avg:6.541666666666668%',\n",
       " 'Average Unmployment Rate Avg:7.404166666666664%',\n",
       " 'Average Unmployment Rate Avg:11.154166666666667%',\n",
       " 'Average Unmployment Rate Avg:6.772916666666667%',\n",
       " 'Average Unmployment Rate Avg:8.374999999999998%',\n",
       " 'Average Unmployment Rate Avg:9.10416666666667%',\n",
       " 'Average Unmployment Rate Avg:6.547916666666668%',\n",
       " 'Average Unmployment Rate Avg:9.447916666666664%',\n",
       " 'Average Unmployment Rate Avg:3.6354166666666674%',\n",
       " 'Average Unmployment Rate Avg:4.25%',\n",
       " 'Average Unmployment Rate Avg:5.333333333333335%',\n",
       " 'Average Unmployment Rate Avg:8.316666666666665%',\n",
       " 'Average Unmployment Rate Avg:6.902083333333335%',\n",
       " 'Average Unmployment Rate Avg:11.13125%',\n",
       " 'Average Unmployment Rate Avg:7.666666666666668%',\n",
       " 'Average Unmployment Rate Avg:8.964583333333335%',\n",
       " 'Average Unmployment Rate Avg:5.7%',\n",
       " 'Average Unmployment Rate Avg:9.483333333333333%',\n",
       " 'Average Unmployment Rate Avg:7.431249999999999%',\n",
       " 'Average Unmployment Rate Avg:14.870833333333335%',\n",
       " 'Average Unmployment Rate Avg:10.25208333333333%',\n",
       " 'Average Unmployment Rate Avg:9.939583333333333%',\n",
       " 'Average Unmployment Rate Avg:4.43125%',\n",
       " 'Average Unmployment Rate Avg:8.920833333333334%',\n",
       " 'Average Unmployment Rate Avg:7.07083333333333%',\n",
       " 'Average Unmployment Rate Avg:6.370833333333334%',\n",
       " 'Average Unmployment Rate Avg:6.089583333333333%',\n",
       " 'Average Unmployment Rate Avg:5.7062500000000025%',\n",
       " 'Average Unmployment Rate Avg:8.447916666666666%',\n",
       " 'Average Unmployment Rate Avg:7.474999999999998%',\n",
       " 'Average Unmployment Rate Avg:7.189583333333334%',\n",
       " 'Average Unmployment Rate Avg:5.410416666666664%']"
      ]
     },
     "execution_count": 7,
     "metadata": {},
     "output_type": "execute_result"
    }
   ],
   "source": [
    "rates = merge_df[\" avg0811\"]\n",
    "\n",
    "rate_info=[f\"Average Unmployment Rate Avg:{rate}%\" for rate in rates]\n",
    "rate_info"
   ]
  },
  {
   "cell_type": "code",
   "execution_count": null,
   "metadata": {},
   "outputs": [],
   "source": []
  },
  {
   "cell_type": "code",
   "execution_count": 8,
   "metadata": {},
   "outputs": [
    {
     "name": "stdout",
     "output_type": "stream",
     "text": [
      "51\n",
      "51\n",
      "51\n"
     ]
    }
   ],
   "source": [
    "print(len(rate_info))\n",
    "print(len(locations))\n",
    "print(len(merge_df))"
   ]
  },
  {
   "cell_type": "code",
   "execution_count": 9,
   "metadata": {},
   "outputs": [
    {
     "data": {
      "application/vnd.jupyter.widget-view+json": {
       "model_id": "9cd4cb3c02ed4441a58f259880af295e",
       "version_major": 2,
       "version_minor": 0
      },
      "text/plain": [
       "Figure(layout=FigureLayout(height='420px'))"
      ]
     },
     "metadata": {},
     "output_type": "display_data"
    }
   ],
   "source": [
    "fig3= gmaps.figure()\n",
    "heatmap = gmaps.heatmap_layer(locations, weights = unemploymentrate, max_intensity = max_unemployment, point_radius = 30)\n",
    "fig3.add_layer(heatmap)\n",
    "\n",
    "#demo_text = [f\"{r['state']}: {r['rate']}\" for i, r in demo_df.iterrows()]\n",
    "hover_text=[f\"{r['name']}:{r[' avg0811']}\" for i , r in merge_df.iterrows()]\n",
    "\n",
    "symbol_layer = gmaps.symbol_layer(merge_df[[\"latitude\", \"longitude\"]], fill_color=\"blue\",stroke_color=\"blue\",scale= 2,\n",
    "                                info_box_content= rate_info, hover_text=hover_text)\n",
    "\n",
    "fig3.add_layer(symbol_layer)\n",
    "fig3 "
   ]
  },
  {
   "cell_type": "code",
   "execution_count": 10,
   "metadata": {},
   "outputs": [],
   "source": [
    "# Map for 2012-2018\n",
    "merge_df_2= pd.read_csv(\"state_merge_2.csv\")\n",
    "gmaps.configure(api_key=g_key)\n",
    "locations = merge_df_2[[\"latitude\",\"longitude\"]]\n",
    "unemploymentrate2= merge_df_2[\" avg1218\"]\n",
    "max_unemployment2=merge_df_2[\" avg1218\"].max()"
   ]
  },
  {
   "cell_type": "code",
   "execution_count": 11,
   "metadata": {},
   "outputs": [
    {
     "data": {
      "application/vnd.jupyter.widget-view+json": {
       "model_id": "c46ecb43e4e74d8aa56e6cf81fa7a4f9",
       "version_major": 2,
       "version_minor": 0
      },
      "text/plain": [
       "Figure(layout=FigureLayout(height='420px'))"
      ]
     },
     "metadata": {},
     "output_type": "display_data"
    }
   ],
   "source": [
    "# fig = gmaps.figure()\n",
    "# heatmap = gmaps.heatmap_layer(locations, weights=Humidity, max_intensity=max_humidity)\n",
    "# fig.add_layer(heatmap)\n",
    "\n",
    "# fig\n",
    "fig4 = gmaps.figure()\n",
    "heatmap = gmaps.heatmap_layer(locations, weights = unemploymentrate2, max_intensity = max_unemployment2, point_radius=30)\n",
    "fig4.add_layer(heatmap)\n",
    "\n",
    "fig4"
   ]
  },
  {
   "cell_type": "code",
   "execution_count": 12,
   "metadata": {},
   "outputs": [],
   "source": [
    "# rate_df_2=pd.read_csv(\"Resources/state_avg_1218.csv\")\n",
    "# rate_df_2.head()"
   ]
  },
  {
   "cell_type": "code",
   "execution_count": 13,
   "metadata": {},
   "outputs": [
    {
     "data": {
      "text/plain": [
       "['Average Unemployment Rate Avg 12-18:6.817857142857143%',\n",
       " 'Average Unemployment Rate Avg 12-18:5.3011904761904765%',\n",
       " 'Average Unemployment Rate Avg 12-18:6.272619047619048%',\n",
       " 'Average Unemployment Rate Avg 12-18:6.795238095238098%',\n",
       " 'Average Unemployment Rate Avg 12-18:4.6952380952380945%',\n",
       " 'Average Unemployment Rate Avg 12-18:6.076190476190478%',\n",
       " 'Average Unemployment Rate Avg 12-18:5.321428571428571%',\n",
       " 'Average Unemployment Rate Avg 12-18:5.7250000000000005%',\n",
       " 'Average Unemployment Rate Avg 12-18:6.357142857142856%',\n",
       " 'Average Unemployment Rate Avg 12-18:3.8166666666666655%',\n",
       " 'Average Unemployment Rate Avg 12-18:3.875%',\n",
       " 'Average Unemployment Rate Avg 12-18:4.592857142857143%',\n",
       " 'Average Unemployment Rate Avg 12-18:6.595238095238094%',\n",
       " 'Average Unemployment Rate Avg 12-18:5.463095238095237%',\n",
       " 'Average Unemployment Rate Avg 12-18:4.3892857142857125%',\n",
       " 'Average Unemployment Rate Avg 12-18:6.038095238095237%',\n",
       " 'Average Unemployment Rate Avg 12-18:6.0738095238095235%',\n",
       " 'Average Unemployment Rate Avg 12-18:4.985714285714286%',\n",
       " 'Average Unemployment Rate Avg 12-18:5.292857142857144%',\n",
       " 'Average Unemployment Rate Avg 12-18:4.927380952380952%',\n",
       " 'Average Unemployment Rate Avg 12-18:6.328571428571429%',\n",
       " 'Average Unemployment Rate Avg 12-18:4.089285714285714%',\n",
       " 'Average Unemployment Rate Avg 12-18:5.188095238095237%',\n",
       " 'Average Unemployment Rate Avg 12-18:6.736904761904763%',\n",
       " 'Average Unemployment Rate Avg 12-18:4.569047619047619%',\n",
       " 'Average Unemployment Rate Avg 12-18:6.113095238095237%',\n",
       " 'Average Unemployment Rate Avg 12-18:2.826190476190476%',\n",
       " 'Average Unemployment Rate Avg 12-18:3.279761904761905%',\n",
       " 'Average Unemployment Rate Avg 12-18:3.7702380952380947%',\n",
       " 'Average Unemployment Rate Avg 12-18:6.254761904761906%',\n",
       " 'Average Unemployment Rate Avg 12-18:6.36904761904762%',\n",
       " 'Average Unemployment Rate Avg 12-18:7.2369047619047615%',\n",
       " 'Average Unemployment Rate Avg 12-18:5.932142857142857%',\n",
       " 'Average Unemployment Rate Avg 12-18:5.7178571428571425%',\n",
       " 'Average Unemployment Rate Avg 12-18:4.559523809523808%',\n",
       " 'Average Unemployment Rate Avg 12-18:6.003571428571428%',\n",
       " 'Average Unemployment Rate Avg 12-18:5.8309523809523816%',\n",
       " 'Average Unemployment Rate Avg 12-18:12.346428571428573%',\n",
       " 'Average Unemployment Rate Avg 12-18:6.703571428571428%',\n",
       " 'Average Unemployment Rate Avg 12-18:6.0011904761904775%',\n",
       " 'Average Unemployment Rate Avg 12-18:3.4035714285714285%',\n",
       " 'Average Unemployment Rate Avg 12-18:5.683333333333333%',\n",
       " 'Average Unemployment Rate Avg 12-18:5.045238095238097%',\n",
       " 'Average Unemployment Rate Avg 12-18:3.880952380952381%',\n",
       " 'Average Unemployment Rate Avg 12-18:4.613095238095238%',\n",
       " 'Average Unemployment Rate Avg 12-18:3.6476190476190484%',\n",
       " 'Average Unemployment Rate Avg 12-18:5.904761904761906%',\n",
       " 'Average Unemployment Rate Avg 12-18:4.847619047619047%',\n",
       " 'Average Unemployment Rate Avg 12-18:6.303571428571429%',\n",
       " 'Average Unemployment Rate Avg 12-18:4.548809523809523%']"
      ]
     },
     "execution_count": 13,
     "metadata": {},
     "output_type": "execute_result"
    }
   ],
   "source": [
    "rates_2 = merge_df_2[\" avg1218\"]\n",
    "rate_info_2 = [f\"Average Unemployment Rate Avg 12-18:{rate}%\" for rate in rates_2]\n",
    "rate_info_2"
   ]
  },
  {
   "cell_type": "code",
   "execution_count": 14,
   "metadata": {},
   "outputs": [
    {
     "name": "stdout",
     "output_type": "stream",
     "text": [
      "50\n",
      "50\n",
      "50\n"
     ]
    }
   ],
   "source": [
    "print(len(rate_info_2))\n",
    "print(len(locations))\n",
    "print(len(merge_df_2))"
   ]
  },
  {
   "cell_type": "code",
   "execution_count": 15,
   "metadata": {},
   "outputs": [
    {
     "data": {
      "application/vnd.jupyter.widget-view+json": {
       "model_id": "cfcc4d989242470d842162a6564bf2fa",
       "version_major": 2,
       "version_minor": 0
      },
      "text/plain": [
       "Figure(layout=FigureLayout(height='420px'))"
      ]
     },
     "metadata": {},
     "output_type": "display_data"
    }
   ],
   "source": [
    "fig5= gmaps.figure()\n",
    "heatmap = gmaps.heatmap_layer(locations, weights = unemploymentrate2, max_intensity = max_unemployment2, point_radius = 30 )\n",
    "fig5.add_layer(heatmap)\n",
    "\n",
    "hover_text_2 =[f\"{r['name']}:{r[' avg1218']}\" for i,r in merge_df_2.iterrows()]\n",
    "\n",
    "symbol_layer = gmaps.symbol_layer(merge_df_2[[\"latitude\", \"longitude\"]], fill_color = \"purple\", stroke_color=\"purple\", \n",
    "                                 scale=2, info_box_content = rate_info_2, hover_text = hover_text_2)\n",
    "\n",
    "fig5.add_layer(symbol_layer)\n",
    "fig5"
   ]
  },
  {
   "cell_type": "code",
   "execution_count": null,
   "metadata": {},
   "outputs": [],
   "source": []
  },
  {
   "cell_type": "code",
   "execution_count": null,
   "metadata": {},
   "outputs": [],
   "source": [
    "#For 2009 only"
   ]
  },
  {
   "cell_type": "code",
   "execution_count": null,
   "metadata": {},
   "outputs": [],
   "source": [
    "merge_df_3=pd.read_csv(\"state_merge_3.csv\")"
   ]
  },
  {
   "cell_type": "code",
   "execution_count": null,
   "metadata": {},
   "outputs": [],
   "source": [
    "gmaps.configure(api_key=g_key)\n",
    "locations = merge_df_3[[\"latitude\",\"longitude\"]]\n",
    "unemploymentrate3= merge_df_3[\" avg2009\"]\n",
    "max_unemployment3=merge_df_3[\" avg2009\"].max()"
   ]
  },
  {
   "cell_type": "code",
   "execution_count": null,
   "metadata": {},
   "outputs": [],
   "source": [
    "fig6= gmaps.figure()\n",
    "heatmap = gmaps.heatmap_layer(locations, weights = unemploymentrate3, max_intensity = max_unemployment3, point_radius = 30)\n",
    "fig6.add_layer(heatmap)\n",
    "\n",
    "fig6"
   ]
  },
  {
   "cell_type": "code",
   "execution_count": null,
   "metadata": {},
   "outputs": [],
   "source": [
    "rate_df_3 = pd.read_csv(\"state_merge_3.csv\")\n",
    "rate_df_3.head()"
   ]
  },
  {
   "cell_type": "code",
   "execution_count": null,
   "metadata": {},
   "outputs": [],
   "source": [
    "rates = merge_df_3[\" avg2009\"]\n",
    "\n",
    "rate_info_3=[f\"Average Unmployment Rate Avg:{rate}%\" for rate in rates]\n",
    "rate_info_3"
   ]
  },
  {
   "cell_type": "code",
   "execution_count": null,
   "metadata": {},
   "outputs": [],
   "source": [
    "print(len(rate_info_2))\n",
    "print(len(locations))\n",
    "print(len(merge_df_2))"
   ]
  },
  {
   "cell_type": "code",
   "execution_count": null,
   "metadata": {},
   "outputs": [],
   "source": [
    "fig7= gmaps.figure()\n",
    "heatmap = gmaps.heatmap_layer(locations, weights = unemploymentrate3, max_intensity = max_unemployment3, point_radius = 30 )\n",
    "fig7.add_layer(heatmap)\n",
    "\n",
    "hover_text_3 =[f\"{r['name']}:{r[' 2009']}\" for i,r in merge_df_3.iterrows()]\n",
    "\n",
    "symbol_layer = gmaps.symbol_layer(merge_df_3[[\"latitude\", \"longitude\"]], fill_color = \"cyan\", stroke_color=\"cyan\", \n",
    "                                 scale=2, info_box_content = rate_info_3, hover_text = hover_text_3)\n",
    "\n",
    "fig7.add_layer(symbol_layer)\n",
    "fig7"
   ]
  },
  {
   "cell_type": "code",
   "execution_count": null,
   "metadata": {},
   "outputs": [],
   "source": []
  },
  {
   "cell_type": "code",
   "execution_count": null,
   "metadata": {},
   "outputs": [],
   "source": []
  }
 ],
 "metadata": {
  "kernelspec": {
   "display_name": "Python 3",
   "language": "python",
   "name": "python3"
  },
  "language_info": {
   "codemirror_mode": {
    "name": "ipython",
    "version": 3
   },
   "file_extension": ".py",
   "mimetype": "text/x-python",
   "name": "python",
   "nbconvert_exporter": "python",
   "pygments_lexer": "ipython3",
   "version": "3.7.4"
  }
 },
 "nbformat": 4,
 "nbformat_minor": 2
}
